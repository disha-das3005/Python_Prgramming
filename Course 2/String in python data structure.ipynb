{
 "cells": [
  {
   "cell_type": "code",
   "execution_count": 16,
   "id": "7a9b972a",
   "metadata": {},
   "outputs": [
    {
     "data": {
      "text/plain": [
       "124"
      ]
     },
     "execution_count": 16,
     "metadata": {},
     "output_type": "execute_result"
    }
   ],
   "source": [
    "#string-integer\n",
    "x='123'\n",
    "int(x)+1"
   ]
  },
  {
   "cell_type": "code",
   "execution_count": 36,
   "id": "ba2c49aa",
   "metadata": {},
   "outputs": [
    {
     "data": {
      "text/plain": [
       "'p'"
      ]
     },
     "execution_count": 36,
     "metadata": {},
     "output_type": "execute_result"
    }
   ],
   "source": [
    "#printing element of a string\n",
    "y='Dipha'\n",
    "y[2]"
   ]
  },
  {
   "cell_type": "code",
   "execution_count": 37,
   "id": "4e304ebc",
   "metadata": {},
   "outputs": [
    {
     "data": {
      "text/plain": [
       "5"
      ]
     },
     "execution_count": 37,
     "metadata": {},
     "output_type": "execute_result"
    }
   ],
   "source": [
    "#length of a string\n",
    "len(y)"
   ]
  },
  {
   "cell_type": "code",
   "execution_count": 38,
   "id": "518e16a4",
   "metadata": {},
   "outputs": [
    {
     "name": "stdout",
     "output_type": "stream",
     "text": [
      "D\n",
      "i\n",
      "p\n",
      "h\n",
      "a\n"
     ]
    }
   ],
   "source": [
    "#to print element of a string using for loop\n",
    "for i in y:\n",
    "    print(i)"
   ]
  },
  {
   "cell_type": "code",
   "execution_count": 39,
   "id": "f8742abd",
   "metadata": {},
   "outputs": [
    {
     "name": "stdout",
     "output_type": "stream",
     "text": [
      "D\n",
      "i\n",
      "p\n",
      "h\n",
      "a\n"
     ]
    }
   ],
   "source": [
    "#to print element of a string using while loop\n",
    "i = 0             #iteration variable\n",
    "while i<len(y):   #condition\n",
    "    print(y[i])   #printing\n",
    "    i=i+1         #increment"
   ]
  },
  {
   "cell_type": "code",
   "execution_count": 40,
   "id": "3196bd8c",
   "metadata": {},
   "outputs": [
    {
     "data": {
      "text/plain": [
       "'Disha'"
      ]
     },
     "execution_count": 40,
     "metadata": {},
     "output_type": "execute_result"
    }
   ],
   "source": [
    "#element in a string replace\n",
    "y=y.replace('p','s')\n",
    "y"
   ]
  },
  {
   "cell_type": "code",
   "execution_count": 43,
   "id": "d3e6a9de",
   "metadata": {},
   "outputs": [
    {
     "data": {
      "text/plain": [
       "2"
      ]
     },
     "execution_count": 43,
     "metadata": {},
     "output_type": "execute_result"
    }
   ],
   "source": [
    "#counting repeatation\n",
    "z=' is a good girl'\n",
    "z.count('g')"
   ]
  },
  {
   "cell_type": "code",
   "execution_count": 46,
   "id": "fd949505",
   "metadata": {},
   "outputs": [
    {
     "data": {
      "text/plain": [
       "'Disha is a good girl'"
      ]
     },
     "execution_count": 46,
     "metadata": {},
     "output_type": "execute_result"
    }
   ],
   "source": [
    "#sting concatenation\n",
    "w=y + z\n",
    "w"
   ]
  },
  {
   "cell_type": "code",
   "execution_count": 47,
   "id": "de961863",
   "metadata": {},
   "outputs": [
    {
     "data": {
      "text/plain": [
       "11"
      ]
     },
     "execution_count": 47,
     "metadata": {},
     "output_type": "execute_result"
    }
   ],
   "source": [
    "#find the index of a mentioned string\n",
    "w.find('good')"
   ]
  },
  {
   "cell_type": "code",
   "execution_count": 49,
   "id": "8981f0d6",
   "metadata": {},
   "outputs": [
    {
     "data": {
      "text/plain": [
       "['Disha is a ', ' girl']"
      ]
     },
     "execution_count": 49,
     "metadata": {},
     "output_type": "execute_result"
    }
   ],
   "source": [
    "#splitting by given condition\n",
    "w.split('good')"
   ]
  },
  {
   "cell_type": "code",
   "execution_count": 55,
   "id": "f7f47358",
   "metadata": {},
   "outputs": [
    {
     "data": {
      "text/plain": [
       "'Disha is a good girl'"
      ]
     },
     "execution_count": 55,
     "metadata": {},
     "output_type": "execute_result"
    }
   ],
   "source": [
    "w.rstrip('good')\n",
    "\n"
   ]
  },
  {
   "cell_type": "code",
   "execution_count": 56,
   "id": "871de2a5",
   "metadata": {},
   "outputs": [
    {
     "data": {
      "text/plain": [
       "'DISHA IS A GOOD GIRL'"
      ]
     },
     "execution_count": 56,
     "metadata": {},
     "output_type": "execute_result"
    }
   ],
   "source": [
    "w.upper()"
   ]
  },
  {
   "cell_type": "code",
   "execution_count": 58,
   "id": "2bb7d214",
   "metadata": {},
   "outputs": [
    {
     "name": "stdout",
     "output_type": "stream",
     "text": [
      "0.8475\n"
     ]
    }
   ],
   "source": [
    "# Write code using find() and string slicing to extract the number at the end of the line below.\n",
    "#Convert the extracted value to a floating point number and print it out.\n",
    "\n",
    "text = \"X-DSPAM-Confidence:    0.8475\"\n",
    "x=text.find('0.8475')\n",
    "y=text[x:x+6]\n",
    "print(float(y))"
   ]
  },
  {
   "cell_type": "code",
   "execution_count": null,
   "id": "3e547b14",
   "metadata": {},
   "outputs": [],
   "source": []
  }
 ],
 "metadata": {
  "kernelspec": {
   "display_name": "Python 3 (ipykernel)",
   "language": "python",
   "name": "python3"
  },
  "language_info": {
   "codemirror_mode": {
    "name": "ipython",
    "version": 3
   },
   "file_extension": ".py",
   "mimetype": "text/x-python",
   "name": "python",
   "nbconvert_exporter": "python",
   "pygments_lexer": "ipython3",
   "version": "3.11.3"
  }
 },
 "nbformat": 4,
 "nbformat_minor": 5
}
