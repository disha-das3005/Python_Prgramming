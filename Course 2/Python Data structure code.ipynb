{
 "cells": [
  {
   "cell_type": "code",
   "execution_count": 1,
   "id": "31bb121d",
   "metadata": {},
   "outputs": [
    {
     "name": "stdout",
     "output_type": "stream",
     "text": [
      "0.8475\n"
     ]
    }
   ],
   "source": [
    "\n",
    "#Write code using find() and string slicing (see section 6.10) to extract the number at the end of the line below\n",
    "#Convert the extracted value to a floating point number and print it out.\n",
    "\n",
    "text = \"X-DSPAM-Confidence:    0.8475\"\n",
    "x=text.find('0.8475')\n",
    "y=text[x:x+6]\n",
    "print(float(y))\n"
   ]
  },
  {
   "cell_type": "code",
   "execution_count": null,
   "id": "413f9222",
   "metadata": {},
   "outputs": [],
   "source": [
    "\n",
    "#Write a program that prompts for a file name, then opens that file and reads through the file, \n",
    "#and print the contents of the file in upper case. Use the file words.txt to produce the output below.\n",
    "#You can download the sample data at http://www.py4e.com/code3/words.txt\n",
    "\n",
    "fh = input(\"Enter file name: \")\n",
    "try:\n",
    "   fh = open(fname)\n",
    "except:\n",
    "    print('file not found:error')\n",
    "    quit()\n",
    "    \n",
    "text=fh.read()\n",
    "res=text.upper()\n",
    "print(res.rstrip())\n",
    "\n"
   ]
  },
  {
   "cell_type": "code",
   "execution_count": null,
   "id": "2837d7e1",
   "metadata": {},
   "outputs": [],
   "source": [
    "\n",
    "#Write a program that prompts for a file name, then opens that file and reads through the file, looking for lines of the form:\n",
    "#X-DSPAM-Confidence:    0.8475\n",
    "#Count these lines and extract the floating point values from each of the lines and compute the average of those values \n",
    "#and produce an output as shown below. Do not use the sum() function or a variable named sum in your solution.\n",
    "#You can download the sample data at http://www.py4e.com/code3/mbox-short.txt\n",
    "#when you are testing below enter mbox-short.txt as the file name.\n",
    "\n",
    "fname = raw_input(\"Enter file name: \")\n",
    "fh = open(fname)\n",
    "count = 0\n",
    "total = 0\n",
    "for line in fh:\n",
    "    if not line.startswith(\"X-DSPAM-Confidence:\") : continue\n",
    "    t=line.find(\"0\")\n",
    "    number= float(line[t:])\n",
    "    count = count + 1\n",
    "    total = total + number\n",
    "\n",
    "average = total/count\n",
    "print(\"Average spam confidence:\",average)\n"
   ]
  },
  {
   "cell_type": "code",
   "execution_count": null,
   "id": "d2e3e9da",
   "metadata": {},
   "outputs": [],
   "source": [
    "\n",
    "#Open the file romeo.txt and read it line by line. For each line, split the line into a list of words using the split() method\n",
    "#The program should build a list of words. For each word on each line check to see if the word is already in the list\n",
    "#and if not append it to the list. When the program completes, sort \n",
    "#and print the resulting words in python sort() order as shown in the desired output.\n",
    "#You can download the sample data at http://www.py4e.com/code3/romeo.txt\n",
    "\n",
    "fname = input(\"Enter file name: \")\n",
    "fh = open(fname)\n",
    "lst = list()\n",
    "for line in fh:\n",
    "    word_split = line.split()\n",
    "    for word in word_split:\n",
    "       if word not in lst:\n",
    "           lst.append(word)\n",
    "       else:\n",
    "          continue\n",
    "\n",
    "print(sorted(lst))\n"
   ]
  },
  {
   "cell_type": "code",
   "execution_count": null,
   "id": "72cccf87",
   "metadata": {},
   "outputs": [],
   "source": [
    "\n",
    "# Write a program to read through the mbox-short.txt and figure out who has sent the greatest number of mail messages.\n",
    "#The program looks for 'From ' lines and takes the second word of those lines as the person who sent the mail.\n",
    "#The program creates a Python dictionary that maps the sender's mail address to a count of the number of times\n",
    "#they appear in the file. After the dictionary is produced, the program reads through the dictionary using a maximum loop to \n",
    "#find the most prolific committer.\n",
    "\n",
    "fname = input(\"Enter file:\")\n",
    "if len(fname) < 1 : name = \"mbox-short.txt\"\n",
    "hand = open(fname)\n",
    "\n",
    "lst = list()\n",
    "\n",
    "for line in hand:\n",
    "    if not line.startswith(\"From:\"): continue\n",
    "    line = line.split()\n",
    "    lst.append(line[1])\n",
    "\n",
    "counts = dict()\n",
    "for word in lst:\n",
    "    counts[word] = counts.get(word,0) + 1\n",
    "\n",
    "bigcount = None\n",
    "bigword = None\n",
    "for word,count in counts.items(): \n",
    "    if bigcount is None or count > bigcount:\n",
    "        bigcount = count\n",
    "        bigword = word\n",
    "\n",
    "print (bigword,bigcount)\n",
    "\n"
   ]
  },
  {
   "cell_type": "code",
   "execution_count": null,
   "id": "7fcdf0cb",
   "metadata": {},
   "outputs": [],
   "source": [
    "\n",
    "#Write a program to read through the mbox-short.txt and figure out the distribution by hour of the day for each of the messages.\n",
    "#You can pull the hour out from the 'From ' line by finding the time and then splitting the string a second time using a colon.\n",
    "#From stephen.marquard@uct.ac.za Sat Jan  5 09:14:16 2008\n",
    "#Once you have accumulated the counts for each hour, print out the counts, sorted by hour as shown below.\n",
    "\n",
    "name = raw_input(\"Enter file:\")\n",
    "if len(name) < 1 : name = \"mbox-short.txt\"\n",
    "handle = open(name)\n",
    "d=dict()\n",
    "for line in handle:\n",
    "    if not line.startswith(\"From \"): \n",
    "        continue\n",
    "    else:    \n",
    "        line=line.split()\n",
    "        line=line[5]\n",
    "        line=line[0:2]\n",
    "        d[line]=d.get(line,0)+1\n",
    "\n",
    "lst=list()        \n",
    "for value,count in d.items():\n",
    "    lst.append((value,count))\n",
    "\n",
    "lst.sort()\n",
    "for value,count in lst:\n",
    "    print(value,count)\n",
    "\n"
   ]
  },
  {
   "cell_type": "code",
   "execution_count": null,
   "id": "b88b1862",
   "metadata": {},
   "outputs": [],
   "source": []
  }
 ],
 "metadata": {
  "kernelspec": {
   "display_name": "Python 3 (ipykernel)",
   "language": "python",
   "name": "python3"
  },
  "language_info": {
   "codemirror_mode": {
    "name": "ipython",
    "version": 3
   },
   "file_extension": ".py",
   "mimetype": "text/x-python",
   "name": "python",
   "nbconvert_exporter": "python",
   "pygments_lexer": "ipython3",
   "version": "3.11.3"
  }
 },
 "nbformat": 4,
 "nbformat_minor": 5
}
