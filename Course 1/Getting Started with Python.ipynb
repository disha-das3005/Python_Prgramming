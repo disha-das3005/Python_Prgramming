{
 "cells": [
  {
   "cell_type": "code",
   "execution_count": 1,
   "id": "50670e28",
   "metadata": {},
   "outputs": [
    {
     "name": "stdout",
     "output_type": "stream",
     "text": [
      "hello world\n"
     ]
    }
   ],
   "source": [
    "#Write a program that uses a print function to say 'hello world'\n",
    "\n",
    "print(\"hello world\")\n"
   ]
  },
  {
   "cell_type": "code",
   "execution_count": 2,
   "id": "d6f6d2b2",
   "metadata": {},
   "outputs": [
    {
     "name": "stdout",
     "output_type": "stream",
     "text": [
      "Enter your nameDisha Das\n",
      "Hello Disha Das\n"
     ]
    }
   ],
   "source": [
    "\n",
    "#Write a program that uses input to prompt a user for their name \n",
    "#and then welcomes them. Note that input will pop up a dialog box.\n",
    "\n",
    "name = input(\"Enter your name\")\n",
    "print(\"Hello\",name)\n"
   ]
  },
  {
   "cell_type": "code",
   "execution_count": 3,
   "id": "88169e86",
   "metadata": {},
   "outputs": [
    {
     "name": "stdout",
     "output_type": "stream",
     "text": [
      "Enter Hours:35\n",
      "Enter rate per hours:2.75\n",
      "Pay: 96.25\n"
     ]
    }
   ],
   "source": [
    "\n",
    "#Write a program to prompt the user for hours and rate per hour using input to compute gross pay.\n",
    "#Use 35 hours and a rate of 2.75 per hour to test the program (the pay should be 96.25). \n",
    "#You should use input to read a string and float() to convert the string to a number.\n",
    "#Do not worry about error checking or bad user data.\n",
    "\n",
    "\n",
    "hrs = input(\"Enter Hours:\")\n",
    "rate= input(\"Enter rate per hours:\")\n",
    "pay=float(hrs)*float(rate)\n",
    "print(\"Pay:\", pay)\n",
    "            "
   ]
  },
  {
   "cell_type": "code",
   "execution_count": 5,
   "id": "00763f4b",
   "metadata": {},
   "outputs": [
    {
     "name": "stdout",
     "output_type": "stream",
     "text": [
      "Enter Hours:45\n",
      "Enter the Rate:10.50\n",
      "498.75\n"
     ]
    }
   ],
   "source": [
    "\n",
    "# Write a program to prompt the user for hours and rate per hour using input to compute gross pay. \n",
    "#Pay the hourly rate for the hours up to 40 and 1.5 times the hourly rate for all hours worked above 40 hours. \n",
    "#Use 45 hours and a rate of 10.50 per hour to test the program (the pay should be 498.75). \n",
    "#You should use input to read a string and float() to convert the string to a number. \n",
    "#Do not worry about error checking the user input - assume the user types numbers properly.\n",
    "\n",
    "hrs = input(\"Enter Hours:\")\n",
    "h = float(hrs)\n",
    "xx = input(\"Enter the Rate:\")\n",
    "x = float(xx)\n",
    "if h <= 40:\n",
    " \tprint( h  * x)\n",
    "elif h > 40:\n",
    "\tprint(40* x + (h-40)*1.5*x)\n",
    "    "
   ]
  },
  {
   "cell_type": "code",
   "execution_count": 6,
   "id": "abb576ee",
   "metadata": {},
   "outputs": [
    {
     "name": "stdout",
     "output_type": "stream",
     "text": [
      "Enter Score: 0.85\n",
      "B\n"
     ]
    }
   ],
   "source": [
    "\n",
    "# Write a program to prompt for a score between 0.0 and 1.0. If the score is out of range, print an error. \n",
    "#If the score is between 0.0 and 1.0, print a grade using the following table:\n",
    "#Score Grade\n",
    "#>= 0.9 A\n",
    "#>= 0.8 B\n",
    "#>= 0.7 C\n",
    "#>= 0.6 D\n",
    "#< 0.6 F\n",
    "#If the user enters a value out of range, print a suitable error message and exit. For the test, enter a score of 0.85.\n",
    "\n",
    "score = input(\"Enter Score: \")\n",
    "s =  float(score)\n",
    "x = 'Error'\n",
    "if s >= 0.9:\n",
    "\tx = 'A'\n",
    "elif s >=0.8:\n",
    "\tx='B'\n",
    "elif s >=0.7:\n",
    "\tx='C'\n",
    "elif s >= 0.6:\n",
    "\tx='D'\n",
    "elif s < .6:\n",
    "\tx ='F'\n",
    "else:\n",
    "\tx =\"Out of Range\"\n",
    "print (x)\n"
   ]
  },
  {
   "cell_type": "code",
   "execution_count": 7,
   "id": "31009a23",
   "metadata": {},
   "outputs": [
    {
     "name": "stdout",
     "output_type": "stream",
     "text": [
      "Enter Hours:45\n",
      "Enter rate per hour:10.50\n",
      "Pay 498.75\n"
     ]
    }
   ],
   "source": [
    "\n",
    "#Write a program to prompt the user for hours and rate per hour using input to compute gross pay. \n",
    "#Pay should be the normal rate for hours up to 40 and time-and-a-half for the hourly rate for all hours worked above 40 hours.\n",
    "#Put the logic to do the computation of pay in a function called computepay() and use the function to do the computation.\n",
    "#The function should return a value. Use 45 hours and a rate of 10.50 per hour to test the program (the pay should be 498.75).\n",
    "#You should use input to read a string and float() to convert the string to a number. \n",
    "#Do not worry about error checking the user input unless you want to - you can assume the user types numbers properly. \n",
    "#Do not name your variable sum or use the sum() function.\n",
    "\n",
    "def computepay(h,r):\n",
    "    if h > 40:\n",
    "        p = 1.5 * r * (h - 40) + (40 *r)\n",
    "    else:\n",
    "        p = h * r\n",
    "    return p\n",
    "    \n",
    "hrs = input(\"Enter Hours:\")\n",
    "hr = float(hrs)\n",
    "rphrs = input(\"Enter rate per hour:\")\n",
    "rphr = float(rphrs)\n",
    "\n",
    "p = computepay(hr,rphr)\n",
    "print('Pay',p)\n"
   ]
  },
  {
   "cell_type": "code",
   "execution_count": 9,
   "id": "c3dd8785",
   "metadata": {},
   "outputs": [
    {
     "name": "stdout",
     "output_type": "stream",
     "text": [
      "Enter a number: 7\n",
      "Enter a number: 2\n",
      "Enter a number: bob\n",
      "Invalid input\n",
      "Enter a number: 10\n",
      "Enter a number: 4\n",
      "Enter a number: done\n",
      "Maximum is 10\n",
      "Minimum is 2\n"
     ]
    }
   ],
   "source": [
    "\n",
    "#Write a program that repeatedly prompts a user for integer numbers \n",
    "#until the user enters 'done'. Once 'done' is entered, print out the largest and smallest of the numbers.\n",
    "#If the user enters anything other than a valid number catch it with a try/except \n",
    "#and put out an appropriate message and ignore the number. Enter 7, 2, bob, 10, and 4 and match the output below.\n",
    "\n",
    "largest = None\n",
    "smallest = None\n",
    "while True: \n",
    "    num = input(\"Enter a number: \")\n",
    "    if num == \"done\" :\n",
    "        break\n",
    "    try:\n",
    "        num = int(num)\n",
    "    except:\n",
    "        print(\"Invalid input\")\n",
    "        continue\n",
    "    \n",
    "    if largest is None:\n",
    "        largest = num\n",
    "    elif num > largest:\n",
    "        largest = num\n",
    "    if smallest is None:\n",
    "        smallest = num\n",
    "    elif num < smallest:\n",
    "        smallest = num\n",
    "     \n",
    "\n",
    "print(\"Maximum is\", largest)\n",
    "print(\"Minimum is\", smallest)\n"
   ]
  },
  {
   "cell_type": "code",
   "execution_count": null,
   "id": "d460f08f",
   "metadata": {},
   "outputs": [],
   "source": []
  }
 ],
 "metadata": {
  "kernelspec": {
   "display_name": "Python 3 (ipykernel)",
   "language": "python",
   "name": "python3"
  },
  "language_info": {
   "codemirror_mode": {
    "name": "ipython",
    "version": 3
   },
   "file_extension": ".py",
   "mimetype": "text/x-python",
   "name": "python",
   "nbconvert_exporter": "python",
   "pygments_lexer": "ipython3",
   "version": "3.11.3"
  }
 },
 "nbformat": 4,
 "nbformat_minor": 5
}
